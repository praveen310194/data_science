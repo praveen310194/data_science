{
 "cells": [
  {
   "cell_type": "code",
   "execution_count": 1,
   "metadata": {},
   "outputs": [],
   "source": [
    "import numpy as np \n",
    "import pandas as pd\n",
    "import seaborn as sns\n",
    "import matplotlib.pyplot as plt\n",
    "\n",
    "%matplotlib inline"
   ]
  },
  {
   "cell_type": "code",
   "execution_count": 2,
   "metadata": {},
   "outputs": [],
   "source": [
    "from sklearn.linear_model import LinearRegression\n",
    "import statsmodels.api as sm\n",
    "import copy"
   ]
  },
  {
   "cell_type": "code",
   "execution_count": 3,
   "metadata": {},
   "outputs": [
    {
     "data": {
      "text/html": [
       "<div>\n",
       "<style scoped>\n",
       "    .dataframe tbody tr th:only-of-type {\n",
       "        vertical-align: middle;\n",
       "    }\n",
       "\n",
       "    .dataframe tbody tr th {\n",
       "        vertical-align: top;\n",
       "    }\n",
       "\n",
       "    .dataframe thead th {\n",
       "        text-align: right;\n",
       "    }\n",
       "</style>\n",
       "<table border=\"1\" class=\"dataframe\">\n",
       "  <thead>\n",
       "    <tr style=\"text-align: right;\">\n",
       "      <th></th>\n",
       "      <th>x</th>\n",
       "      <th>y</th>\n",
       "    </tr>\n",
       "  </thead>\n",
       "  <tbody>\n",
       "    <tr>\n",
       "      <th>0</th>\n",
       "      <td>77</td>\n",
       "      <td>79.775152</td>\n",
       "    </tr>\n",
       "    <tr>\n",
       "      <th>1</th>\n",
       "      <td>21</td>\n",
       "      <td>23.177279</td>\n",
       "    </tr>\n",
       "    <tr>\n",
       "      <th>2</th>\n",
       "      <td>22</td>\n",
       "      <td>25.609262</td>\n",
       "    </tr>\n",
       "    <tr>\n",
       "      <th>3</th>\n",
       "      <td>20</td>\n",
       "      <td>17.857388</td>\n",
       "    </tr>\n",
       "    <tr>\n",
       "      <th>4</th>\n",
       "      <td>36</td>\n",
       "      <td>41.849864</td>\n",
       "    </tr>\n",
       "  </tbody>\n",
       "</table>\n",
       "</div>"
      ],
      "text/plain": [
       "    x          y\n",
       "0  77  79.775152\n",
       "1  21  23.177279\n",
       "2  22  25.609262\n",
       "3  20  17.857388\n",
       "4  36  41.849864"
      ]
     },
     "execution_count": 3,
     "metadata": {},
     "output_type": "execute_result"
    }
   ],
   "source": [
    "df = pd.read_csv(\"D:/practice/linear/linear.csv\")\n",
    "df.head()"
   ]
  },
  {
   "cell_type": "code",
   "execution_count": 5,
   "metadata": {},
   "outputs": [
    {
     "name": "stderr",
     "output_type": "stream",
     "text": [
      "C:\\Users\\praveen\\Anaconda3\\lib\\site-packages\\ipykernel_launcher.py:1: RuntimeWarning: Second argument 'y' is ambiguous: could be a color spec but is in data; using as data.  Either rename the entry in data or use three arguments to plot.\n",
      "  \"\"\"Entry point for launching an IPython kernel.\n"
     ]
    },
    {
     "data": {
      "image/png": "[encoded data removed]",
      "text/plain": [
       "<Figure size 432x288 with 1 Axes>"
      ]
     },
     "metadata": {
      "needs_background": "light"
     },
     "output_type": "display_data"
    }
   ],
   "source": [
    "plt.plot('x','y',data = df, marker = 'o', linestyle = '', label = 'data')\n",
    "plt.xlabel('x',fontsize = 18)\n",
    "plt.ylabel('y', fontsize = 18)\n",
    "plt.legend(fontsize = 14)\n",
    "plt.show()"
   ]
  },
  {
   "cell_type": "code",
   "execution_count": 7,
   "metadata": {},
   "outputs": [],
   "source": [
    "x = df['x'].tolist()\n",
    "y = df['y'].tolist()"
   ]
  },
  {
   "cell_type": "code",
   "execution_count": 9,
   "metadata": {},
   "outputs": [
    {
     "data": {
      "text/plain": [
       "array([[  1.,  77.],\n",
       "       [  1.,  21.],\n",
       "       [  1.,  22.],\n",
       "       [  1.,  20.],\n",
       "       [  1.,  36.],\n",
       "       [  1.,  15.],\n",
       "       [  1.,  62.],\n",
       "       [  1.,  95.],\n",
       "       [  1.,  20.],\n",
       "       [  1.,   5.],\n",
       "       [  1.,   4.],\n",
       "       [  1.,  19.],\n",
       "       [  1.,  96.],\n",
       "       [  1.,  62.],\n",
       "       [  1.,  36.],\n",
       "       [  1.,  15.],\n",
       "       [  1.,  65.],\n",
       "       [  1.,  14.],\n",
       "       [  1.,  87.],\n",
       "       [  1.,  69.],\n",
       "       [  1.,  89.],\n",
       "       [  1.,  51.],\n",
       "       [  1.,  89.],\n",
       "       [  1.,  27.],\n",
       "       [  1.,  97.],\n",
       "       [  1.,  58.],\n",
       "       [  1.,  79.],\n",
       "       [  1.,  21.],\n",
       "       [  1.,  93.],\n",
       "       [  1.,  27.],\n",
       "       [  1.,  99.],\n",
       "       [  1.,  31.],\n",
       "       [  1.,  33.],\n",
       "       [  1.,  80.],\n",
       "       [  1.,  28.],\n",
       "       [  1.,  47.],\n",
       "       [  1.,  53.],\n",
       "       [  1.,  69.],\n",
       "       [  1.,  28.],\n",
       "       [  1.,  33.],\n",
       "       [  1.,  91.],\n",
       "       [  1.,  71.],\n",
       "       [  1.,  50.],\n",
       "       [  1.,  76.],\n",
       "       [  1.,   4.],\n",
       "       [  1.,  37.],\n",
       "       [  1.,  70.],\n",
       "       [  1.,  68.],\n",
       "       [  1.,  40.],\n",
       "       [  1.,  35.],\n",
       "       [  1.,  94.],\n",
       "       [  1.,  88.],\n",
       "       [  1.,  52.],\n",
       "       [  1.,  31.],\n",
       "       [  1.,  59.],\n",
       "       [  1.,   0.],\n",
       "       [  1.,  39.],\n",
       "       [  1.,  64.],\n",
       "       [  1.,  69.],\n",
       "       [  1.,  57.],\n",
       "       [  1.,  13.],\n",
       "       [  1.,  72.],\n",
       "       [  1.,  76.],\n",
       "       [  1.,  61.],\n",
       "       [  1.,  82.],\n",
       "       [  1.,  18.],\n",
       "       [  1.,  41.],\n",
       "       [  1.,  50.],\n",
       "       [  1.,  55.],\n",
       "       [  1.,  13.],\n",
       "       [  1.,  46.],\n",
       "       [  1.,  13.],\n",
       "       [  1.,  79.],\n",
       "       [  1.,  53.],\n",
       "       [  1.,  15.],\n",
       "       [  1.,  28.],\n",
       "       [  1.,  81.],\n",
       "       [  1.,  69.],\n",
       "       [  1.,  52.],\n",
       "       [  1.,  84.],\n",
       "       [  1.,  68.],\n",
       "       [  1.,  27.],\n",
       "       [  1.,  56.],\n",
       "       [  1.,  48.],\n",
       "       [  1.,  40.],\n",
       "       [  1.,  39.],\n",
       "       [  1.,  82.],\n",
       "       [  1., 100.],\n",
       "       [  1.,  59.],\n",
       "       [  1.,  43.],\n",
       "       [  1.,  67.],\n",
       "       [  1.,  38.],\n",
       "       [  1.,  63.],\n",
       "       [  1.,  91.],\n",
       "       [  1.,  60.],\n",
       "       [  1.,  14.],\n",
       "       [  1.,  21.],\n",
       "       [  1.,  87.],\n",
       "       [  1.,  73.],\n",
       "       [  1.,  32.],\n",
       "       [  1.,   2.],\n",
       "       [  1.,  82.],\n",
       "       [  1.,  19.],\n",
       "       [  1.,  74.],\n",
       "       [  1.,  42.],\n",
       "       [  1.,  12.],\n",
       "       [  1.,   1.],\n",
       "       [  1.,  90.],\n",
       "       [  1.,  89.],\n",
       "       [  1.,   0.],\n",
       "       [  1.,  41.],\n",
       "       [  1.,  16.],\n",
       "       [  1.,  94.],\n",
       "       [  1.,  97.],\n",
       "       [  1.,  66.],\n",
       "       [  1.,  24.],\n",
       "       [  1.,  17.],\n",
       "       [  1.,  90.],\n",
       "       [  1.,  13.],\n",
       "       [  1.,   0.],\n",
       "       [  1.,  64.],\n",
       "       [  1.,  96.],\n",
       "       [  1.,  98.],\n",
       "       [  1.,  12.],\n",
       "       [  1.,  41.],\n",
       "       [  1.,  47.],\n",
       "       [  1.,  78.],\n",
       "       [  1.,  20.],\n",
       "       [  1.,  89.],\n",
       "       [  1.,  29.],\n",
       "       [  1.,  64.],\n",
       "       [  1.,  75.],\n",
       "       [  1.,  12.],\n",
       "       [  1.,  25.],\n",
       "       [  1.,  28.],\n",
       "       [  1.,  30.],\n",
       "       [  1.,  65.],\n",
       "       [  1.,  59.],\n",
       "       [  1.,  64.],\n",
       "       [  1.,  53.],\n",
       "       [  1.,  71.],\n",
       "       [  1.,  97.],\n",
       "       [  1.,  73.],\n",
       "       [  1.,   9.],\n",
       "       [  1.,  12.],\n",
       "       [  1.,  63.],\n",
       "       [  1.,  99.],\n",
       "       [  1.,  60.],\n",
       "       [  1.,  35.],\n",
       "       [  1.,   2.],\n",
       "       [  1.,  60.],\n",
       "       [  1.,  32.],\n",
       "       [  1.,  94.],\n",
       "       [  1.,  84.],\n",
       "       [  1.,  63.],\n",
       "       [  1.,  22.],\n",
       "       [  1.,  81.],\n",
       "       [  1.,  93.],\n",
       "       [  1.,  33.],\n",
       "       [  1.,   7.],\n",
       "       [  1.,  42.],\n",
       "       [  1.,  46.],\n",
       "       [  1.,  54.],\n",
       "       [  1.,  16.],\n",
       "       [  1.,  49.],\n",
       "       [  1.,  43.],\n",
       "       [  1.,  95.],\n",
       "       [  1.,  66.],\n",
       "       [  1.,  21.],\n",
       "       [  1.,  35.],\n",
       "       [  1.,  80.],\n",
       "       [  1.,  37.],\n",
       "       [  1.,  54.],\n",
       "       [  1.,  56.],\n",
       "       [  1.,   1.],\n",
       "       [  1.,  32.],\n",
       "       [  1.,  58.],\n",
       "       [  1.,  32.],\n",
       "       [  1.,  46.],\n",
       "       [  1.,  72.],\n",
       "       [  1.,  17.],\n",
       "       [  1.,  97.],\n",
       "       [  1.,  93.],\n",
       "       [  1.,  91.],\n",
       "       [  1.,  37.],\n",
       "       [  1.,   4.],\n",
       "       [  1.,  54.],\n",
       "       [  1.,  51.],\n",
       "       [  1.,  27.],\n",
       "       [  1.,  46.],\n",
       "       [  1.,  92.],\n",
       "       [  1.,  73.],\n",
       "       [  1.,  77.],\n",
       "       [  1.,  91.],\n",
       "       [  1.,  61.],\n",
       "       [  1.,  99.],\n",
       "       [  1.,   4.],\n",
       "       [  1.,  72.],\n",
       "       [  1.,  19.],\n",
       "       [  1.,  57.],\n",
       "       [  1.,  78.],\n",
       "       [  1.,  26.],\n",
       "       [  1.,  74.],\n",
       "       [  1.,  90.],\n",
       "       [  1.,  66.],\n",
       "       [  1.,  13.],\n",
       "       [  1.,  40.],\n",
       "       [  1.,  77.],\n",
       "       [  1.,  67.],\n",
       "       [  1.,  75.],\n",
       "       [  1.,  23.],\n",
       "       [  1.,  45.],\n",
       "       [  1.,  59.],\n",
       "       [  1.,  44.],\n",
       "       [  1.,  23.],\n",
       "       [  1.,  55.],\n",
       "       [  1.,  55.],\n",
       "       [  1.,  95.],\n",
       "       [  1.,  12.],\n",
       "       [  1.,   4.],\n",
       "       [  1.,   7.],\n",
       "       [  1., 100.],\n",
       "       [  1.,  48.],\n",
       "       [  1.,  42.],\n",
       "       [  1.,  96.],\n",
       "       [  1.,  39.],\n",
       "       [  1., 100.],\n",
       "       [  1.,  87.],\n",
       "       [  1.,  14.],\n",
       "       [  1.,  14.],\n",
       "       [  1.,  37.],\n",
       "       [  1.,   5.],\n",
       "       [  1.,  88.],\n",
       "       [  1.,  91.],\n",
       "       [  1.,  65.],\n",
       "       [  1.,  74.],\n",
       "       [  1.,  56.],\n",
       "       [  1.,  16.],\n",
       "       [  1.,   5.],\n",
       "       [  1.,  28.],\n",
       "       [  1.,  92.],\n",
       "       [  1.,  46.],\n",
       "       [  1.,  54.],\n",
       "       [  1.,  39.],\n",
       "       [  1.,  44.],\n",
       "       [  1.,  31.],\n",
       "       [  1.,  68.],\n",
       "       [  1.,  86.],\n",
       "       [  1.,  90.],\n",
       "       [  1.,  38.],\n",
       "       [  1.,  21.],\n",
       "       [  1.,  95.],\n",
       "       [  1.,  56.],\n",
       "       [  1.,  60.],\n",
       "       [  1.,  65.],\n",
       "       [  1.,  78.],\n",
       "       [  1.,  89.],\n",
       "       [  1.,   6.],\n",
       "       [  1.,  67.],\n",
       "       [  1.,  36.],\n",
       "       [  1.,  16.],\n",
       "       [  1., 100.],\n",
       "       [  1.,  45.],\n",
       "       [  1.,  73.],\n",
       "       [  1.,  57.],\n",
       "       [  1.,  20.],\n",
       "       [  1.,  76.],\n",
       "       [  1.,  34.],\n",
       "       [  1.,  55.],\n",
       "       [  1.,  72.],\n",
       "       [  1.,  55.],\n",
       "       [  1.,   8.],\n",
       "       [  1.,  56.],\n",
       "       [  1.,  72.],\n",
       "       [  1.,  58.],\n",
       "       [  1.,   6.],\n",
       "       [  1.,  96.],\n",
       "       [  1.,  23.],\n",
       "       [  1.,  58.],\n",
       "       [  1.,  23.],\n",
       "       [  1.,  19.],\n",
       "       [  1.,  25.],\n",
       "       [  1.,  64.],\n",
       "       [  1.,  21.],\n",
       "       [  1.,  59.],\n",
       "       [  1.,  19.],\n",
       "       [  1.,  16.],\n",
       "       [  1.,  42.],\n",
       "       [  1.,  43.],\n",
       "       [  1.,  61.],\n",
       "       [  1.,  92.],\n",
       "       [  1.,  11.],\n",
       "       [  1.,  41.],\n",
       "       [  1.,   1.],\n",
       "       [  1.,   8.],\n",
       "       [  1.,  71.],\n",
       "       [  1.,  46.],\n",
       "       [  1.,  55.],\n",
       "       [  1.,  62.],\n",
       "       [  1.,  47.]])"
      ]
     },
     "execution_count": 9,
     "metadata": {},
     "output_type": "execute_result"
    }
   ],
   "source": [
    "# Don't forget - adding ones to the x matrix\n",
    "xb = np.c_[np.ones((len(x),1)),x]\n",
    "xb"
   ]
  },
  {
   "cell_type": "code",
   "execution_count": 10,
   "metadata": {},
   "outputs": [
    {
     "data": {
      "text/plain": [
       "array([-0.46181077,  1.01433536])"
      ]
     },
     "execution_count": 10,
     "metadata": {},
     "output_type": "execute_result"
    }
   ],
   "source": [
    "# calculate linear regression parameters theta using the normal equation\n",
    "thetaHat = np.linalg.inv(xb.T.dot(xb)).dot(xb.T).dot(y)\n",
    "thetaHat\n",
    "# thetaHat[0] is intercept, thetaHat[1] is slope. This is determined by the column order of matrix xb."
   ]
  },
  {
   "cell_type": "code",
   "execution_count": 11,
   "metadata": {},
   "outputs": [
    {
     "name": "stderr",
     "output_type": "stream",
     "text": [
      "C:\\Users\\praveen\\Anaconda3\\lib\\site-packages\\ipykernel_launcher.py:6: RuntimeWarning: Second argument 'y' is ambiguous: could be a color spec but is in data; using as data.  Either rename the entry in data or use three arguments to plot.\n",
      "  \n"
     ]
    },
    {
     "data": {
      "image/png": "[encoded data removed]",
      "text/plain": [
       "<Figure size 432x288 with 1 Axes>"
      ]
     },
     "metadata": {
      "needs_background": "light"
     },
     "output_type": "display_data"
    }
   ],
   "source": [
    "# plot the fit and the data\n",
    "xFit = np.linspace(0,100,num = 200)\n",
    "xFitb = np.c_[np.ones((len(xFit),1)), xFit]\n",
    "yFit = xFitb.dot(thetaHat)\n",
    "\n",
    "plt.plot('x','y',data = df, marker = 'o', linestyle = '', label = 'data')\n",
    "plt.plot(xFit, yFit, color = 'r', lw = 3, linestyle = '--', label = 'Linear fit')\n",
    "plt.xlabel('x',fontsize = 18)\n",
    "plt.ylabel('y', fontsize = 18)\n",
    "plt.legend(fontsize = 14)\n",
    "plt.show()"
   ]
  },
  {
   "cell_type": "code",
   "execution_count": 12,
   "metadata": {},
   "outputs": [
    {
     "data": {
      "text/plain": [
       "(-0.4618107736611776, array([1.01433536]))"
      ]
     },
     "execution_count": 12,
     "metadata": {},
     "output_type": "execute_result"
    }
   ],
   "source": [
    "# create the model\n",
    "lin_reg = LinearRegression()\n",
    "# format x so that LinearRegression recognize it.\n",
    "x = np.array(x).reshape(-1,1)\n",
    "# fit the model\n",
    "lin_reg.fit(x,y)\n",
    "lin_reg.intercept_, lin_reg.coef_"
   ]
  },
  {
   "cell_type": "code",
   "execution_count": 13,
   "metadata": {},
   "outputs": [
    {
     "name": "stdout",
     "output_type": "stream",
     "text": [
      "                            OLS Regression Results                            \n",
      "==============================================================================\n",
      "Dep. Variable:                      y   R-squared:                       0.989\n",
      "Model:                            OLS   Adj. R-squared:                  0.989\n",
      "Method:                 Least Squares   F-statistic:                 2.709e+04\n",
      "Date:                Fri, 18 Sep 2020   Prob (F-statistic):          1.33e-294\n",
      "Time:                        12:12:01   Log-Likelihood:                -757.98\n",
      "No. Observations:                 300   AIC:                             1520.\n",
      "Df Residuals:                     298   BIC:                             1527.\n",
      "Df Model:                           1                                         \n",
      "Covariance Type:            nonrobust                                         \n",
      "==============================================================================\n",
      "                 coef    std err          t      P>|t|      [0.025      0.975]\n",
      "------------------------------------------------------------------------------\n",
      "const         -0.4618      0.360     -1.284      0.200      -1.169       0.246\n",
      "x1             1.0143      0.006    164.598      0.000       1.002       1.026\n",
      "==============================================================================\n",
      "Omnibus:                        1.034   Durbin-Watson:                   2.006\n",
      "Prob(Omnibus):                  0.596   Jarque-Bera (JB):                0.825\n",
      "Skew:                           0.117   Prob(JB):                        0.662\n",
      "Kurtosis:                       3.104   Cond. No.                         120.\n",
      "==============================================================================\n",
      "\n",
      "Warnings:\n",
      "[1] Standard Errors assume that the covariance matrix of the errors is correctly specified.\n"
     ]
    }
   ],
   "source": [
    "xb = sm.add_constant(x) # again, add a column of ones to x\n",
    "model = sm.OLS(y,xb) # OLS = Ordinary Least Squares\n",
    "results = model.fit()\n",
    "print(results.summary())"
   ]
  },
  {
   "cell_type": "code",
   "execution_count": 14,
   "metadata": {},
   "outputs": [],
   "source": [
    "learningRate = 0.0002\n",
    "numIterations = 100000\n",
    "y = np.array(y).reshape(-1,1)\n",
    "m = len(y) # number of samples\n",
    "\n",
    "# random initialization with standard normal distribution\n",
    "theta = np.random.randn(2,1)\n",
    "\n",
    "# start gradient descent\n",
    "for i in range(numIterations):\n",
    "    gradient = 2/m * xb.T.dot(xb.dot(theta) - y) # dimension: (2,1)\n",
    "    theta = theta - learningRate * gradient"
   ]
  },
  {
   "cell_type": "code",
   "execution_count": 15,
   "metadata": {},
   "outputs": [
    {
     "data": {
      "text/plain": [
       "array([[-0.46180754],\n",
       "       [ 1.01433531]])"
      ]
     },
     "execution_count": 15,
     "metadata": {},
     "output_type": "execute_result"
    }
   ],
   "source": [
    "theta"
   ]
  },
  {
   "cell_type": "code",
   "execution_count": 16,
   "metadata": {},
   "outputs": [],
   "source": [
    "# define the function to calculate MSE\n",
    "# can also use sklearn.metrics.mean_squared_error\n",
    "def MSE(xb,y,theta):\n",
    "    return np.sum(np.square(xb.dot(theta)-y))/len(y)\n"
   ]
  },
  {
   "cell_type": "code",
   "execution_count": 17,
   "metadata": {},
   "outputs": [],
   "source": [
    "learningRate = 0.0002\n",
    "numIterations = 100000\n",
    "y = np.array(y).reshape(-1,1)\n",
    "m = len(y) # number of samples\n",
    "\n",
    "# random initialization with standard normal distribution\n",
    "theta = np.random.randn(2,1)\n",
    "\n",
    "cost = []\n",
    "# start gradient descent\n",
    "for i in range(numIterations):\n",
    "    gradient = 2/m * xb.T.dot(xb.dot(theta) - y) # dimension: (2,1)\n",
    "    theta = theta - learningRate * gradient\n",
    "    cost.append(MSE(xb,y,theta))"
   ]
  },
  {
   "cell_type": "code",
   "execution_count": 18,
   "metadata": {},
   "outputs": [
    {
     "data": {
      "text/plain": [
       "Text(0, 0.5, 'MSE')"
      ]
     },
     "execution_count": 18,
     "metadata": {},
     "output_type": "execute_result"
    },
    {
     "data": {
      "image/png": "[encoded data removed]",
      "text/plain": [
       "<Figure size 720x288 with 2 Axes>"
      ]
     },
     "metadata": {
      "needs_background": "light"
     },
     "output_type": "display_data"
    }
   ],
   "source": [
    "fig,ax = plt.subplots(nrows = 1, ncols = 2, figsize = (10,4))\n",
    "ax[0].plot(range(0,100),cost[0:100])\n",
    "ax[1].plot(range(10000,20001), cost[10000:20001])\n",
    "plt.subplots_adjust(wspace=0.5)\n",
    "ax[0].set_xlabel('# of iterations', fontsize = 14)\n",
    "ax[1].set_xlabel('# of iterations', fontsize = 14)\n",
    "ax[0].set_ylabel('MSE', fontsize = 14)\n",
    "ax[1].set_ylabel('MSE', fontsize = 14)"
   ]
  },
  {
   "cell_type": "code",
   "execution_count": 19,
   "metadata": {},
   "outputs": [
    {
     "data": {
      "text/plain": [
       "Text(0, 0.5, 'MSE')"
      ]
     },
     "execution_count": 19,
     "metadata": {},
     "output_type": "execute_result"
    },
    {
     "data": {
      "image/png": "[encoded data removed]",
      "text/plain": [
       "<Figure size 360x288 with 1 Axes>"
      ]
     },
     "metadata": {
      "needs_background": "light"
     },
     "output_type": "display_data"
    }
   ],
   "source": [
    "learningRate = 0.0003\n",
    "numIterations = 100\n",
    "y = np.array(y).reshape(-1,1)\n",
    "m = len(y) # number of samples\n",
    "\n",
    "# random initialization with standard normal distribution\n",
    "theta = np.random.randn(2,1)\n",
    "\n",
    "cost = []\n",
    "# start gradient descent\n",
    "for i in range(numIterations):\n",
    "    gradient = 2/m * xb.T.dot(xb.dot(theta) - y) # dimension: (2,1)\n",
    "    theta = theta - learningRate * gradient\n",
    "    cost.append(MSE(xb,y,theta))\n",
    "\n",
    "fig,ax = plt.subplots(nrows = 1, ncols = 1, figsize = (5,4))\n",
    "ax.plot(range(0,100), cost[0:100])\n",
    "ax.set_xlabel('# of iterations', fontsize = 14)\n",
    "ax.set_ylabel('MSE', fontsize = 14)"
   ]
  },
  {
   "cell_type": "code",
   "execution_count": 29,
   "metadata": {},
   "outputs": [
    {
     "name": "stdout",
     "output_type": "stream",
     "text": [
      "[[  -29.11487554]\n",
      " [-1973.26813291]]\n"
     ]
    }
   ],
   "source": [
    "theta = np.random.randn(2,1)\n",
    "gradient = 2/m * xb.T.dot(xb.dot(theta) - y)\n",
    "print(gradient)"
   ]
  },
  {
   "cell_type": "code",
   "execution_count": 30,
   "metadata": {},
   "outputs": [
    {
     "name": "stdout",
     "output_type": "stream",
     "text": [
      "[[ 1.          0.91589319]\n",
      " [ 1.         -1.05200623]\n",
      " [ 1.         -1.01686517]\n",
      " [ 1.         -1.08714729]\n",
      " [ 1.         -0.52489032]]\n",
      "50.93666666666667\n",
      "28.456738901161685\n"
     ]
    }
   ],
   "source": [
    "xbStandard = copy.deepcopy(xb) # we don't want to mess with xb! xbStandard = xb will lead to xb being normalized, too.\n",
    "# save the shift and scaling\n",
    "mu = np.mean(xbStandard[:,1]) \n",
    "sigma = np.std(xbStandard[:,1])\n",
    "# standardization\n",
    "xbStandard[:,1]=(xbStandard[:,1]-mu)/sigma\n",
    "print(xbStandard[0:5])\n",
    "print(mu)\n",
    "print(sigma)"
   ]
  },
  {
   "cell_type": "code",
   "execution_count": 31,
   "metadata": {},
   "outputs": [
    {
     "data": {
      "image/png": "[encoded data removed]",
      "text/plain": [
       "<Figure size 360x288 with 1 Axes>"
      ]
     },
     "metadata": {
      "needs_background": "light"
     },
     "output_type": "display_data"
    }
   ],
   "source": [
    "learningRate = 0.1\n",
    "numIterations = 1000\n",
    "\n",
    "m = len(y) # number of samples\n",
    "\n",
    "# random initialization with standard normal distribution\n",
    "theta = np.random.randn(2,1)\n",
    "\n",
    "cost = []\n",
    "# start gradient descent\n",
    "for i in range(numIterations):\n",
    "    gradient = 2/m * xbStandard.T.dot(xbStandard.dot(theta) - y) # dimension: (2,1)\n",
    "    theta = theta - learningRate * gradient\n",
    "    cost.append(MSE(xbStandard,y,theta))\n",
    "\n",
    "fig,ax = plt.subplots(nrows = 1, ncols = 1, figsize = (5,4))\n",
    "plt.plot(cost)\n",
    "ax.set_xlabel('# of iterations', fontsize = 14)\n",
    "ax.set_ylabel('MSE', fontsize = 14)\n",
    "plt.show()"
   ]
  },
  {
   "cell_type": "code",
   "execution_count": 32,
   "metadata": {},
   "outputs": [
    {
     "name": "stdout",
     "output_type": "stream",
     "text": [
      "[[51.2050511 ]\n",
      " [28.86467636]]\n"
     ]
    }
   ],
   "source": [
    "print(theta)"
   ]
  },
  {
   "cell_type": "code",
   "execution_count": 34,
   "metadata": {},
   "outputs": [
    {
     "name": "stderr",
     "output_type": "stream",
     "text": [
      "C:\\Users\\praveen\\Anaconda3\\lib\\site-packages\\ipykernel_launcher.py:6: RuntimeWarning: Second argument 'y' is ambiguous: could be a color spec but is in data; using as data.  Either rename the entry in data or use three arguments to plot.\n",
      "  \n"
     ]
    },
    {
     "data": {
      "image/png": "[encoded data removed]",
      "text/plain": [
       "<Figure size 432x288 with 1 Axes>"
      ]
     },
     "metadata": {
      "needs_background": "light"
     },
     "output_type": "display_data"
    }
   ],
   "source": [
    "xFit = np.linspace(0,100,num = 200)\n",
    "xFitStandard = (xFit - mu)/sigma # use the previously saved mean and standard deviation\n",
    "xFitStandardb = np.c_[np.ones((len(xFitStandard),1)), xFitStandard]\n",
    "yFit = xFitStandardb.dot(theta)\n",
    "\n",
    "plt.plot('x','y',data = df, marker = 'o', linestyle = '', label = 'data')\n",
    "plt.plot(xFit, yFit, color = 'r', lw = 3, linestyle = '--', label = 'Linear fit')\n",
    "plt.xlabel('x',fontsize = 18)\n",
    "plt.ylabel('y', fontsize = 18)\n",
    "plt.legend(fontsize = 14)\n",
    "plt.show()"
   ]
  },
  {
   "cell_type": "code",
   "execution_count": 35,
   "metadata": {},
   "outputs": [
    {
     "data": {
      "image/png": "[encoded data removed]",
      "text/plain": [
       "<Figure size 576x288 with 1 Axes>"
      ]
     },
     "metadata": {
      "needs_background": "light"
     },
     "output_type": "display_data"
    }
   ],
   "source": [
    "numEpochs = 1000\n",
    "\n",
    "# a simple learning schedule\n",
    "def learningSchedule(step):\n",
    "    return 5/(50000 + step)\n",
    "\n",
    "# visualize the learning schedule\n",
    "s = np.linspace(0,15000, num = 15001)\n",
    "l = learningSchedule(s)\n",
    "m = len(y) # sample size \n",
    "\n",
    "fig, ax = plt.subplots(figsize = (8,4))\n",
    "plt.plot(s,l, lw = 2)\n",
    "#plt.xlim(0,15000)\n",
    "plt.xlabel('step', fontsize = 18)\n",
    "plt.ylabel('learning rate', fontsize = 18)\n",
    "plt.show()"
   ]
  },
  {
   "cell_type": "code",
   "execution_count": 36,
   "metadata": {},
   "outputs": [],
   "source": [
    "theta = np.random.randn(2,1)\n",
    "\n",
    "cost = []\n",
    "for epoch in range(numEpochs):\n",
    "    for i in range(m):\n",
    "        idx = np.random.randint(m) # 0,1,...,m-1\n",
    "        xbi = xb[idx:idx+1]\n",
    "        yi = y[idx:idx+1]\n",
    "        gradient = 2*xbi.T.dot(xbi.dot(theta)-yi) # sample size is one\n",
    "        learningRate = learningSchedule(epoch*m + i) # step = epoch*m + i\n",
    "        theta = theta - learningRate * gradient\n",
    "        cost.append(MSE(xb,y,theta))"
   ]
  },
  {
   "cell_type": "code",
   "execution_count": 37,
   "metadata": {},
   "outputs": [
    {
     "data": {
      "text/plain": [
       "array([[-0.4796869 ],\n",
       "       [ 1.03752107]])"
      ]
     },
     "execution_count": 37,
     "metadata": {},
     "output_type": "execute_result"
    }
   ],
   "source": [
    "theta"
   ]
  },
  {
   "cell_type": "code",
   "execution_count": 38,
   "metadata": {},
   "outputs": [
    {
     "data": {
      "image/png": "[encoded data removed]",
      "text/plain": [
       "<Figure size 576x288 with 1 Axes>"
      ]
     },
     "metadata": {
      "needs_background": "light"
     },
     "output_type": "display_data"
    }
   ],
   "source": [
    "fig, ax = plt.subplots(figsize = (8,4))\n",
    "plt.plot(cost)\n",
    "#plt.xlim(0,20000)\n",
    "plt.ylabel('cost', fontsize = 18)\n",
    "plt.xlabel('step', fontsize = 18)\n",
    "plt.show()"
   ]
  },
  {
   "cell_type": "code",
   "execution_count": 39,
   "metadata": {},
   "outputs": [
    {
     "name": "stderr",
     "output_type": "stream",
     "text": [
      "C:\\Users\\praveen\\Anaconda3\\lib\\site-packages\\numpy\\core\\fromnumeric.py:86: RuntimeWarning: overflow encountered in reduce\n",
      "  return ufunc.reduce(obj, axis, dtype, out, **passkwargs)\n",
      "C:\\Users\\praveen\\Anaconda3\\lib\\site-packages\\ipykernel_launcher.py:4: RuntimeWarning: overflow encountered in square\n",
      "  after removing the cwd from sys.path.\n",
      "C:\\Users\\praveen\\Anaconda3\\lib\\site-packages\\ipykernel_launcher.py:15: RuntimeWarning: overflow encountered in multiply\n",
      "  from ipykernel import kernelapp as app\n",
      "C:\\Users\\praveen\\Anaconda3\\lib\\site-packages\\ipykernel_launcher.py:17: RuntimeWarning: invalid value encountered in subtract\n"
     ]
    }
   ],
   "source": [
    "numEpochs = 100\n",
    "\n",
    "# a simple learning schedule\n",
    "def learningSchedule(step):\n",
    "    return 5/(10000 + step)\n",
    "\n",
    "theta = np.random.randn(2,1)\n",
    "\n",
    "cost = []\n",
    "for epoch in range(numEpochs):\n",
    "    for i in range(m):\n",
    "        idx = np.random.randint(m) # 0,1,...,m-1\n",
    "        xbi = xb[idx:idx+1]\n",
    "        yi = y[idx:idx+1]\n",
    "        gradient = 2*xbi.T.dot(xbi.dot(theta)-yi) # sample size is one\n",
    "        learningRate = learningSchedule(epoch*m + i) # step = epoch*m + i\n",
    "        theta = theta - learningRate * gradient\n",
    "        cost.append(MSE(xb,y,theta))"
   ]
  },
  {
   "cell_type": "code",
   "execution_count": 40,
   "metadata": {},
   "outputs": [
    {
     "data": {
      "image/png": "[encoded data removed]",
      "text/plain": [
       "<Figure size 432x288 with 1 Axes>"
      ]
     },
     "metadata": {
      "needs_background": "light"
     },
     "output_type": "display_data"
    }
   ],
   "source": [
    "plt.plot(cost)\n",
    "plt.show()"
   ]
  },
  {
   "cell_type": "code",
   "execution_count": 41,
   "metadata": {},
   "outputs": [],
   "source": [
    "from sklearn.linear_model import SGDRegressor"
   ]
  },
  {
   "cell_type": "code",
   "execution_count": 42,
   "metadata": {},
   "outputs": [
    {
     "data": {
      "text/plain": [
       "SGDRegressor(alpha=0.0001, average=False, early_stopping=False, epsilon=0.1,\n",
       "             eta0=0.0005, fit_intercept=True, l1_ratio=0.15,\n",
       "             learning_rate='invscaling', loss='squared_loss', max_iter=10000,\n",
       "             n_iter_no_change=5, penalty=None, power_t=0.25, random_state=None,\n",
       "             shuffle=True, tol=0.001, validation_fraction=0.1, verbose=0,\n",
       "             warm_start=False)"
      ]
     },
     "execution_count": 42,
     "metadata": {},
     "output_type": "execute_result"
    }
   ],
   "source": [
    "# max_iter is the total number of epochs, eta0 is the starting learning rate\n",
    "# penalty = None, meaning there is no regularization.\n",
    "model = SGDRegressor(eta0 = 0.0005, penalty = None, max_iter = 10000)\n",
    "model.fit(x,y.ravel())"
   ]
  },
  {
   "cell_type": "code",
   "execution_count": 43,
   "metadata": {},
   "outputs": [
    {
     "data": {
      "text/plain": [
       "(array([-0.02758935]), array([1.01791139]))"
      ]
     },
     "execution_count": 43,
     "metadata": {},
     "output_type": "execute_result"
    }
   ],
   "source": [
    "model.intercept_, model.coef_"
   ]
  },
  {
   "cell_type": "code",
   "execution_count": 44,
   "metadata": {},
   "outputs": [],
   "source": [
    "from sklearn.utils import shuffle"
   ]
  },
  {
   "cell_type": "code",
   "execution_count": 45,
   "metadata": {},
   "outputs": [],
   "source": [
    "batchsize = 30 # size of each of the mini batch\n",
    "theta = np.random.randn(2,1)\n",
    "\n",
    "numEpochs = 5000\n",
    "learningRate = 0.0002\n",
    "\n",
    "for epoch in range(numEpochs):\n",
    "    xbShuffled, yShuffled = shuffle(xb, y) # shuffle your dataset at the beginning of each epoch.\n",
    "    for i in range(0, xbShuffled.shape[0], batchsize):\n",
    "        xbi = xbShuffled[i:i+batchsize]\n",
    "        yi = yShuffled[i:i+batchsize]\n",
    "        gradient = 2/batchsize*xbi.T.dot(xbi.dot(theta)-yi)\n",
    "        theta = theta - learningRate*gradient"
   ]
  },
  {
   "cell_type": "code",
   "execution_count": 46,
   "metadata": {},
   "outputs": [
    {
     "data": {
      "text/plain": [
       "array([[-0.45879504],\n",
       "       [ 1.01333666]])"
      ]
     },
     "execution_count": 46,
     "metadata": {},
     "output_type": "execute_result"
    }
   ],
   "source": [
    "theta"
   ]
  },
  {
   "cell_type": "markdown",
   "metadata": {},
   "source": [
    "# Polynomial Regression\n",
    "The above simple linear regression model can be easily extended to a polynomial regression model. To illustrate polynomial regression, we will use another dataset:"
   ]
  },
  {
   "cell_type": "code",
   "execution_count": 47,
   "metadata": {},
   "outputs": [
    {
     "data": {
      "text/html": [
       "<div>\n",
       "<style scoped>\n",
       "    .dataframe tbody tr th:only-of-type {\n",
       "        vertical-align: middle;\n",
       "    }\n",
       "\n",
       "    .dataframe tbody tr th {\n",
       "        vertical-align: top;\n",
       "    }\n",
       "\n",
       "    .dataframe thead th {\n",
       "        text-align: right;\n",
       "    }\n",
       "</style>\n",
       "<table border=\"1\" class=\"dataframe\">\n",
       "  <thead>\n",
       "    <tr style=\"text-align: right;\">\n",
       "      <th></th>\n",
       "      <th>fixed acidity</th>\n",
       "      <th>volatile acidity</th>\n",
       "      <th>citric acid</th>\n",
       "      <th>residual sugar</th>\n",
       "      <th>chlorides</th>\n",
       "      <th>free sulfur dioxide</th>\n",
       "      <th>total sulfur dioxide</th>\n",
       "      <th>density</th>\n",
       "      <th>pH</th>\n",
       "      <th>sulphates</th>\n",
       "      <th>alcohol</th>\n",
       "      <th>quality</th>\n",
       "    </tr>\n",
       "  </thead>\n",
       "  <tbody>\n",
       "    <tr>\n",
       "      <th>0</th>\n",
       "      <td>7.4</td>\n",
       "      <td>0.70</td>\n",
       "      <td>0.00</td>\n",
       "      <td>1.9</td>\n",
       "      <td>0.076</td>\n",
       "      <td>11.0</td>\n",
       "      <td>34.0</td>\n",
       "      <td>0.9978</td>\n",
       "      <td>3.51</td>\n",
       "      <td>0.56</td>\n",
       "      <td>9.4</td>\n",
       "      <td>5</td>\n",
       "    </tr>\n",
       "    <tr>\n",
       "      <th>1</th>\n",
       "      <td>7.8</td>\n",
       "      <td>0.88</td>\n",
       "      <td>0.00</td>\n",
       "      <td>2.6</td>\n",
       "      <td>0.098</td>\n",
       "      <td>25.0</td>\n",
       "      <td>67.0</td>\n",
       "      <td>0.9968</td>\n",
       "      <td>3.20</td>\n",
       "      <td>0.68</td>\n",
       "      <td>9.8</td>\n",
       "      <td>5</td>\n",
       "    </tr>\n",
       "    <tr>\n",
       "      <th>2</th>\n",
       "      <td>7.8</td>\n",
       "      <td>0.76</td>\n",
       "      <td>0.04</td>\n",
       "      <td>2.3</td>\n",
       "      <td>0.092</td>\n",
       "      <td>15.0</td>\n",
       "      <td>54.0</td>\n",
       "      <td>0.9970</td>\n",
       "      <td>3.26</td>\n",
       "      <td>0.65</td>\n",
       "      <td>9.8</td>\n",
       "      <td>5</td>\n",
       "    </tr>\n",
       "    <tr>\n",
       "      <th>3</th>\n",
       "      <td>11.2</td>\n",
       "      <td>0.28</td>\n",
       "      <td>0.56</td>\n",
       "      <td>1.9</td>\n",
       "      <td>0.075</td>\n",
       "      <td>17.0</td>\n",
       "      <td>60.0</td>\n",
       "      <td>0.9980</td>\n",
       "      <td>3.16</td>\n",
       "      <td>0.58</td>\n",
       "      <td>9.8</td>\n",
       "      <td>6</td>\n",
       "    </tr>\n",
       "    <tr>\n",
       "      <th>4</th>\n",
       "      <td>7.4</td>\n",
       "      <td>0.70</td>\n",
       "      <td>0.00</td>\n",
       "      <td>1.9</td>\n",
       "      <td>0.076</td>\n",
       "      <td>11.0</td>\n",
       "      <td>34.0</td>\n",
       "      <td>0.9978</td>\n",
       "      <td>3.51</td>\n",
       "      <td>0.56</td>\n",
       "      <td>9.4</td>\n",
       "      <td>5</td>\n",
       "    </tr>\n",
       "  </tbody>\n",
       "</table>\n",
       "</div>"
      ],
      "text/plain": [
       "   fixed acidity  volatile acidity  citric acid  residual sugar  chlorides  \\\n",
       "0            7.4              0.70         0.00             1.9      0.076   \n",
       "1            7.8              0.88         0.00             2.6      0.098   \n",
       "2            7.8              0.76         0.04             2.3      0.092   \n",
       "3           11.2              0.28         0.56             1.9      0.075   \n",
       "4            7.4              0.70         0.00             1.9      0.076   \n",
       "\n",
       "   free sulfur dioxide  total sulfur dioxide  density    pH  sulphates  \\\n",
       "0                 11.0                  34.0   0.9978  3.51       0.56   \n",
       "1                 25.0                  67.0   0.9968  3.20       0.68   \n",
       "2                 15.0                  54.0   0.9970  3.26       0.65   \n",
       "3                 17.0                  60.0   0.9980  3.16       0.58   \n",
       "4                 11.0                  34.0   0.9978  3.51       0.56   \n",
       "\n",
       "   alcohol  quality  \n",
       "0      9.4        5  \n",
       "1      9.8        5  \n",
       "2      9.8        5  \n",
       "3      9.8        6  \n",
       "4      9.4        5  "
      ]
     },
     "execution_count": 47,
     "metadata": {},
     "output_type": "execute_result"
    }
   ],
   "source": [
    "df1 = pd.read_csv(\"D:/practice/linear/advanced.csv\")\n",
    "df1.head()"
   ]
  },
  {
   "cell_type": "code",
   "execution_count": 48,
   "metadata": {},
   "outputs": [
    {
     "data": {
      "image/png": "[encoded data removed]",
      "text/plain": [
       "<Figure size 432x288 with 1 Axes>"
      ]
     },
     "metadata": {
      "needs_background": "light"
     },
     "output_type": "display_data"
    }
   ],
   "source": [
    "plt.plot('fixed acidity','pH', data = df1, marker = 'o', linestyle = '') # fixed acidity, pH\n",
    "plt.xlabel('fixed acidity', fontsize = 18)\n",
    "plt.ylabel('pH', fontsize = 18)\n",
    "plt.show()"
   ]
  },
  {
   "cell_type": "code",
   "execution_count": 50,
   "metadata": {},
   "outputs": [
    {
     "name": "stderr",
     "output_type": "stream",
     "text": [
      "C:\\Users\\praveen\\Anaconda3\\lib\\site-packages\\ipykernel_launcher.py:2: FutureWarning: Method .as_matrix will be removed in a future version. Use .values instead.\n",
      "  \n",
      "C:\\Users\\praveen\\Anaconda3\\lib\\site-packages\\ipykernel_launcher.py:3: FutureWarning: Method .as_matrix will be removed in a future version. Use .values instead.\n",
      "  This is separate from the ipykernel package so we can avoid doing imports until\n"
     ]
    },
    {
     "data": {
      "text/plain": [
       "LinearRegression(copy_X=True, fit_intercept=True, n_jobs=None, normalize=False)"
      ]
     },
     "execution_count": 50,
     "metadata": {},
     "output_type": "execute_result"
    }
   ],
   "source": [
    "reg = LinearRegression()\n",
    "x = df1['fixed acidity'].as_matrix().reshape(-1,1)\n",
    "y = df1['pH'].as_matrix().reshape(-1,1)\n",
    "reg.fit(x,y)"
   ]
  },
  {
   "cell_type": "code",
   "execution_count": 52,
   "metadata": {},
   "outputs": [
    {
     "data": {
      "image/png": "[encoded data removed]",
      "text/plain": [
       "<Figure size 432x288 with 1 Axes>"
      ]
     },
     "metadata": {
      "needs_background": "light"
     },
     "output_type": "display_data"
    }
   ],
   "source": [
    "xFit = np.linspace(4,16,num=100).reshape(-1,1)\n",
    "yFit = reg.predict(xFit)\n",
    "plt.plot('fixed acidity','pH', data = df1, marker = 'o', linestyle = '') \n",
    "plt.plot(xFit,yFit, color = 'r',lw=3)\n",
    "plt.xlabel('fixed acidity', fontsize = 18)\n",
    "plt.ylabel('pH', fontsize = 18)\n",
    "plt.show()"
   ]
  },
  {
   "cell_type": "code",
   "execution_count": 53,
   "metadata": {},
   "outputs": [
    {
     "name": "stdout",
     "output_type": "stream",
     "text": [
      "0.012709087835248859\n"
     ]
    }
   ],
   "source": [
    "# compute MSE\n",
    "xb = np.c_[np.ones((len(x),1)),x]\n",
    "theta = np.array([reg.intercept_[0],reg.coef_[0][0]]).reshape(-1,1)\n",
    "\n",
    "linMSE = MSE(xb,y,theta)\n",
    "print(linMSE)"
   ]
  },
  {
   "cell_type": "code",
   "execution_count": 54,
   "metadata": {},
   "outputs": [],
   "source": [
    "from sklearn.preprocessing import PolynomialFeatures"
   ]
  },
  {
   "cell_type": "code",
   "execution_count": 55,
   "metadata": {},
   "outputs": [
    {
     "name": "stdout",
     "output_type": "stream",
     "text": [
      "[[  7.4   54.76]\n",
      " [  7.8   60.84]\n",
      " [  7.8   60.84]\n",
      " [ 11.2  125.44]\n",
      " [  7.4   54.76]]\n"
     ]
    }
   ],
   "source": [
    "poly = PolynomialFeatures(degree=2, include_bias = False)\n",
    "xPoly = poly.fit_transform(x)\n",
    "print(xPoly[0:5])"
   ]
  },
  {
   "cell_type": "code",
   "execution_count": 56,
   "metadata": {},
   "outputs": [
    {
     "name": "stdout",
     "output_type": "stream",
     "text": [
      "[4.34821937] [[-0.18225037  0.00663222]]\n"
     ]
    }
   ],
   "source": [
    "reg = LinearRegression()\n",
    "reg.fit(xPoly,y)\n",
    "print(reg.intercept_, reg.coef_)"
   ]
  },
  {
   "cell_type": "code",
   "execution_count": 57,
   "metadata": {},
   "outputs": [],
   "source": [
    "xFit=np.linspace(4,16,num=100).reshape(-1,1)\n",
    "xFit=poly.fit_transform(xFit)\n",
    "#print(xFit[0:5])\n",
    "yFit = reg.predict(xFit)"
   ]
  },
  {
   "cell_type": "code",
   "execution_count": 59,
   "metadata": {},
   "outputs": [
    {
     "data": {
      "image/png": "[encoded data removed]",
      "text/plain": [
       "<Figure size 432x288 with 1 Axes>"
      ]
     },
     "metadata": {
      "needs_background": "light"
     },
     "output_type": "display_data"
    }
   ],
   "source": [
    "plt.plot('fixed acidity','pH', data = df1, marker = 'o', linestyle = '') \n",
    "plt.plot(xFit[:,0],yFit, color = 'r',lw=3)\n",
    "plt.xlabel('fixed acidity', fontsize = 18)\n",
    "plt.ylabel('pH', fontsize = 18)\n",
    "plt.show()"
   ]
  },
  {
   "cell_type": "code",
   "execution_count": 60,
   "metadata": {},
   "outputs": [
    {
     "name": "stdout",
     "output_type": "stream",
     "text": [
      "0.011836731145634343\n"
     ]
    }
   ],
   "source": [
    "# compute MSE\n",
    "xb = np.c_[np.ones((len(x),1)),xPoly]\n",
    "theta = np.array([reg.intercept_[0],reg.coef_[0][0],reg.coef_[0][1]]).reshape(-1,1)\n",
    "\n",
    "polyMSE = MSE(xb,y,theta)\n",
    "print(polyMSE)"
   ]
  },
  {
   "cell_type": "code",
   "execution_count": 62,
   "metadata": {},
   "outputs": [
    {
     "data": {
      "image/png": "[encoded data removed]",
      "text/plain": [
       "<Figure size 432x288 with 1 Axes>"
      ]
     },
     "metadata": {
      "needs_background": "light"
     },
     "output_type": "display_data"
    }
   ],
   "source": [
    "#if we do polynomial degree = 20?\n",
    "poly = PolynomialFeatures(degree=20, include_bias = False)\n",
    "xPoly = poly.fit_transform(x)\n",
    "#print(xPoly[0:1])\n",
    "\n",
    "reg = LinearRegression()\n",
    "reg.fit(xPoly,y)\n",
    "\n",
    "xFit = np.linspace(4,16,num=100).reshape(-1,1)\n",
    "xFit = poly.fit_transform(xFit)\n",
    "yFit = reg.predict(xFit)\n",
    "plt.plot('fixed acidity','pH', data = df1, marker = 'o', linestyle = '') \n",
    "plt.plot(xFit[:,0],yFit, color = 'r',lw=3)\n",
    "plt.xlabel('fixed acidity', fontsize = 18)\n",
    "plt.ylabel('pH', fontsize = 18)\n",
    "plt.show()"
   ]
  },
  {
   "cell_type": "code",
   "execution_count": null,
   "metadata": {},
   "outputs": [],
   "source": []
  }
 ],
 "metadata": {
  "kernelspec": {
   "display_name": "Python 3",
   "language": "python",
   "name": "python3"
  },
  "language_info": {
   "codemirror_mode": {
    "name": "ipython",
    "version": 3
   },
   "file_extension": ".py",
   "mimetype": "text/x-python",
   "name": "python",
   "nbconvert_exporter": "python",
   "pygments_lexer": "ipython3",
   "version": "3.7.3"
  }
 },
 "nbformat": 4,
 "nbformat_minor": 2
}
